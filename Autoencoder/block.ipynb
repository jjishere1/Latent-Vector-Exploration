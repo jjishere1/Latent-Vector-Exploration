{
 "cells": [
  {
   "cell_type": "code",
   "execution_count": 69,
   "metadata": {},
   "outputs": [],
   "source": [
    "# pip install torch "
   ]
  },
  {
   "cell_type": "code",
   "execution_count": null,
   "metadata": {},
   "outputs": [],
   "source": [
    "import torch\n",
    "import torch.nn as nn\n",
    "import torch.optim as optim\n",
    "import numpy as np\n",
    "import os "
   ]
  },
  {
   "cell_type": "code",
   "execution_count": null,
   "metadata": {},
   "outputs": [],
   "source": [
    "directory_path = '/Users/manasvijain/Desktop/Autoencoder/matrices' \n",
    "files = [f\"Matrix_{i}.txt\" for i in range(50)]\n",
    "matrices = []\n",
    "\n",
    "for file in files:\n",
    "    file_path = os.path.join(directory_path, file) \n",
    "    matrix = np.loadtxt(file_path)  \n",
    "    if matrix.shape != (250, 250):\n",
    "        raise ValueError(f\"Expected matrix size 250x250, but got {matrix.shape} in file {file}\")\n",
    "    matrices.append(matrix)  \n",
    "\n",
    "data = np.stack(matrices, axis=2)\n",
    "data = data.astype(np.float32)\n",
    "data = (data - data.min()) / (data.max() - data.min())\n",
    "\n",
    "# print(data.shape)  # Should be (250, 250, 50)\n",
    "# print(data.dtype)\n",
    "\n",
    "four_d_tensor = torch.from_numpy(data).float() \n",
    "input_tensor = four_d_tensor.unsqueeze(0)\n",
    "\n",
    "# print(\"Corrected input tensor shape:\", input_tensor.shape)\n",
    "\n",
    "block_dims = (125, 125, 25) "
   ]
  },
  {
   "cell_type": "code",
   "execution_count": null,
   "metadata": {},
   "outputs": [
    {
     "name": "stdout",
     "output_type": "stream",
     "text": [
      "Output shape: torch.Size([1, 1, 125, 125, 25])\n"
     ]
    }
   ],
   "source": [
    "class Conv3DAutoencoder(nn.Module):\n",
    "    def __init__(self):\n",
    "        super(Conv3DAutoencoder, self).__init__()\n",
    "\n",
    "        # Encoder\n",
    "        self.encoder = nn.Sequential(\n",
    "            nn.Conv3d(1, 16, kernel_size=3, stride=2, padding=1),  # Output: (16, 63, 63, 13)\n",
    "            nn.ReLU(),\n",
    "            nn.BatchNorm3d(16),\n",
    "            nn.Conv3d(16, 32, kernel_size=3, stride=2, padding=1), # Output: (32, 32, 32, 7)\n",
    "            nn.ReLU(),\n",
    "            nn.BatchNorm3d(32),\n",
    "            nn.Conv3d(32, 64, kernel_size=3, stride=2, padding=1), # Output: (64, 16, 16, 4)\n",
    "            nn.ReLU(),\n",
    "            nn.BatchNorm3d(64),\n",
    "            nn.Conv3d(64, 128, kernel_size=3, stride=2, padding=1, padding_mode='zeros'), # Output: (128, 8, 8, 2)\n",
    "            nn.ReLU(),\n",
    "            nn.Flatten(),\n",
    "            nn.Linear(128 * 8 * 8 * 2, 1024),\n",
    "            nn.ReLU(),\n",
    "            nn.Dropout(0.4),\n",
    "            nn.Linear(1024, 512),\n",
    "            nn.ReLU()\n",
    "        )\n",
    "\n",
    "        # Decoder\n",
    "        self.decoder = nn.Sequential(\n",
    "            nn.Linear(512, 1024),\n",
    "            nn.ReLU(),\n",
    "            nn.Dropout(0.4),\n",
    "            nn.Linear(1024, 128 * 8 * 8 * 2),\n",
    "            nn.ReLU(),\n",
    "            nn.Unflatten(1, (128, 8, 8, 2)),\n",
    "            nn.ConvTranspose3d(128, 64, kernel_size=3, stride=2, padding=1, output_padding=1), \n",
    "            nn.ReLU(),\n",
    "            nn.ConvTranspose3d(64, 32, kernel_size=3, stride=2, padding=1, output_padding=(1,1,0)), \n",
    "            nn.ReLU(),\n",
    "            nn.ConvTranspose3d(32, 16, kernel_size=3, stride=2, padding=1, output_padding=0), \n",
    "            nn.ReLU(),\n",
    "            nn.ConvTranspose3d(16, 1, kernel_size=3, stride=2, padding=1, output_padding=0), \n",
    "            nn.Sigmoid()\n",
    "        )\n",
    "        \n",
    "    def forward(self, x):\n",
    "        x = self.encoder(x)\n",
    "        x = self.decoder(x)\n",
    "        return x\n",
    "\n",
    "model = Conv3DAutoencoder()\n",
    "model.eval()\n",
    "\n",
    "# dummy_input = torch.rand(1, 1, 125, 125, 25)\n",
    "\n",
    "# with torch.no_grad():\n",
    "#     output = model(dummy_input)\n",
    "\n",
    "# print(\"Output shape:\", output.shape)\n"
   ]
  },
  {
   "cell_type": "code",
   "execution_count": null,
   "metadata": {},
   "outputs": [],
   "source": [
    "def divide_into_blocks(data, block_dims):\n",
    "\n",
    "    if not isinstance(data, torch.Tensor):\n",
    "        data = torch.tensor(data, dtype=torch.float)\n",
    "\n",
    "    blocks = []\n",
    "    height_step, width_step, depth_step = block_dims\n",
    "\n",
    "    for h in range(0, data.shape[1], height_step): \n",
    "        for w in range(0, data.shape[2], width_step):  \n",
    "            for d in range(0, data.shape[3], depth_step): \n",
    "                block = data[:, h:h + height_step, w:w + width_step, d:d + depth_step]\n",
    "                blocks.append(block)\n",
    "\n",
    "    return blocks\n",
    "\n",
    "# Example usage:\n",
    "# data_size = (1, 250, 250, 50)  \n",
    "# block_dims = (125, 125, 25)    \n",
    "# data = torch.randn(data_size) \n",
    "# blocks = divide_into_blocks(data, block_dims)\n",
    "\n",
    "# print(f\"Number of blocks: {len(blocks)}\")\n",
    "# print(f\"Block shape: {blocks[0].shape}\")\n"
   ]
  },
  {
   "cell_type": "code",
   "execution_count": 75,
   "metadata": {},
   "outputs": [],
   "source": [
    "device = torch.device(\"cuda\" if torch.cuda.is_available() else \"cpu\")\n",
    "model = Conv3DAutoencoder().to(device)\n",
    "criterion = nn.MSELoss()\n",
    "optimizer = optim.Adam(model.parameters(), lr=0.001)"
   ]
  },
  {
   "cell_type": "code",
   "execution_count": null,
   "metadata": {},
   "outputs": [
    {
     "name": "stderr",
     "output_type": "stream",
     "text": [
      "/var/folders/gm/bkfc3t293lv3g3bt0lmzwnp40000gn/T/ipykernel_68716/2542529086.py:7: UserWarning: To copy construct from a tensor, it is recommended to use sourceTensor.clone().detach() or sourceTensor.clone().detach().requires_grad_(True), rather than torch.tensor(sourceTensor).\n",
      "  block_tensor = torch.tensor(block, dtype=torch.float).unsqueeze(0).to(device)\n"
     ]
    },
    {
     "name": "stdout",
     "output_type": "stream",
     "text": [
      "Epoch 1, Loss: 0.04297915659844875\n",
      "Epoch 2, Loss: 0.02842120884452015\n",
      "Epoch 3, Loss: 0.026696497341617942\n",
      "Epoch 4, Loss: 0.01599616667954251\n",
      "Epoch 5, Loss: 0.010846497054444626\n",
      "Epoch 6, Loss: 0.005475501689943485\n",
      "Epoch 7, Loss: 0.006194891931954771\n",
      "Epoch 8, Loss: 0.00804750838142354\n",
      "Epoch 9, Loss: 0.010682100342819467\n",
      "Epoch 10, Loss: 0.006616594328079373\n",
      "Epoch 11, Loss: 0.004979448225640226\n",
      "Epoch 12, Loss: 0.008494828172842972\n",
      "Epoch 13, Loss: 0.01962474489118904\n",
      "Epoch 14, Loss: 0.011987173173110932\n",
      "Epoch 15, Loss: 0.021181277406867594\n",
      "Epoch 16, Loss: 0.008708809633390047\n",
      "Epoch 17, Loss: 0.008870898120221682\n",
      "Epoch 18, Loss: 0.00538771537685534\n",
      "Epoch 19, Loss: 0.004541985283140093\n",
      "Epoch 20, Loss: 0.005100293812574819\n",
      "Epoch 21, Loss: 0.00818628445995273\n",
      "Epoch 22, Loss: 0.004517680070421193\n",
      "Epoch 23, Loss: 0.004938029138429556\n",
      "Epoch 24, Loss: 0.00959273154148832\n",
      "Epoch 25, Loss: 0.005692511971574277\n",
      "Epoch 26, Loss: 0.007552204129751772\n",
      "Epoch 27, Loss: 0.007788841707224492\n",
      "Epoch 28, Loss: 0.00841346183733549\n",
      "Epoch 29, Loss: 0.00600172730628401\n",
      "Epoch 30, Loss: 0.005143461319676135\n",
      "Epoch 31, Loss: 0.005416888016043231\n",
      "Epoch 32, Loss: 0.007950251922011375\n",
      "Epoch 33, Loss: 0.009109249978791922\n",
      "Epoch 34, Loss: 0.005289954679028597\n",
      "Epoch 35, Loss: 0.008759303389524575\n",
      "Epoch 36, Loss: 0.006557833396072965\n",
      "Epoch 37, Loss: 0.004070953713380732\n",
      "Epoch 38, Loss: 0.0053210922196740285\n",
      "Epoch 39, Loss: 0.003585895388823701\n",
      "Epoch 40, Loss: 0.004297006773413159\n",
      "Epoch 41, Loss: 0.007225771842058748\n",
      "Epoch 42, Loss: 0.007546874228864908\n",
      "Epoch 43, Loss: 0.008537721580069046\n",
      "Epoch 44, Loss: 0.005984205607092008\n",
      "Epoch 45, Loss: 0.004277633677702397\n",
      "Epoch 46, Loss: 0.006381785482517444\n",
      "Epoch 47, Loss: 0.005978746165055782\n",
      "Epoch 48, Loss: 0.004622675594873726\n",
      "Epoch 49, Loss: 0.006365639019350056\n",
      "Epoch 50, Loss: 0.003642604482593015\n"
     ]
    }
   ],
   "source": [
    "blocks = divide_into_blocks(input_tensor, block_dims)\n",
    "model.train()\n",
    "num_epochs = 50\n",
    "for epoch in range(num_epochs):\n",
    "    total_loss = 0\n",
    "    for block in blocks:\n",
    "        block_tensor = torch.tensor(block, dtype=torch.float).unsqueeze(0).to(device)\n",
    "        optimizer.zero_grad()\n",
    "        output = model(block_tensor)\n",
    "        loss = criterion(output, block_tensor)\n",
    "        loss.backward()\n",
    "        optimizer.step()\n",
    "        total_loss += loss.item()\n",
    "    print(f'Epoch {epoch+1}, Loss: {total_loss / len(blocks)}')"
   ]
  },
  {
   "cell_type": "code",
   "execution_count": 77,
   "metadata": {},
   "outputs": [
    {
     "name": "stderr",
     "output_type": "stream",
     "text": [
      "/var/folders/gm/bkfc3t293lv3g3bt0lmzwnp40000gn/T/ipykernel_68716/620529787.py:5: UserWarning: To copy construct from a tensor, it is recommended to use sourceTensor.clone().detach() or sourceTensor.clone().detach().requires_grad_(True), rather than torch.tensor(sourceTensor).\n",
      "  block_tensor = torch.tensor(block, dtype=torch.float).unsqueeze(0).to(device)\n"
     ]
    }
   ],
   "source": [
    "model.eval()\n",
    "reconstructed_blocks = []\n",
    "with torch.no_grad():\n",
    "    for block in blocks:\n",
    "        block_tensor = torch.tensor(block, dtype=torch.float).unsqueeze(0).to(device)\n",
    "        output = model(block_tensor).cpu().numpy()\n",
    "        reconstructed_blocks.append(output.squeeze(0))\n"
   ]
  },
  {
   "cell_type": "code",
   "execution_count": null,
   "metadata": {},
   "outputs": [
    {
     "name": "stdout",
     "output_type": "stream",
     "text": [
      "Final MSE Loss on Entire Data: 0.0029473984614014626\n"
     ]
    },
    {
     "name": "stderr",
     "output_type": "stream",
     "text": [
      "/var/folders/gm/bkfc3t293lv3g3bt0lmzwnp40000gn/T/ipykernel_68716/1201511273.py:4: UserWarning: To copy construct from a tensor, it is recommended to use sourceTensor.clone().detach() or sourceTensor.clone().detach().requires_grad_(True), rather than torch.tensor(sourceTensor).\n",
      "  original_tensor = torch.tensor(input_tensor, dtype=torch.float).to(device)\n"
     ]
    }
   ],
   "source": [
    "reassembled_data = reassemble_blocks(reconstructed_blocks, input_tensor.shape, block_dims)\n",
    "\n",
    "original_tensor = torch.tensor(input_tensor, dtype=torch.float).to(device)\n",
    "reassembled_tensor = torch.tensor(reassembled_data, dtype=torch.float).to(device)\n",
    "\n",
    "final_loss = criterion(reassembled_tensor,input_tensor)\n",
    "print(f'Final MSE Loss on Entire Data: {final_loss.item()}')"
   ]
  },
  {
   "cell_type": "code",
   "execution_count": null,
   "metadata": {},
   "outputs": [],
   "source": [
    "vtk_array = numpy_support.numpy_to_vtk(reassembled_data)\n",
    "\n",
    "data = read_vti('test.vti')\n",
    "array = data.GetPointData().GetArray(0)\n",
    "\n",
    "dim = data.GetDimensions()\n",
    "spacing = data.GetSpacing()\n",
    "origin = data.GetOrigin()\n",
    "\n",
    "new_data = createVtkImageData(origin, dim, spacing)\n",
    "new_data.GetPointData().AddArray(vtk_array)\n",
    "\n",
    "writeVti(new_data, 'out.vti')\n",
    "\n",
    "psnr_score = compute_PSNR(data,new_data)\n",
    "print(psnr_score)"
   ]
  }
 ],
 "metadata": {
  "kernelspec": {
   "display_name": "Python 3",
   "language": "python",
   "name": "python3"
  },
  "language_info": {
   "codemirror_mode": {
    "name": "ipython",
    "version": 3
   },
   "file_extension": ".py",
   "mimetype": "text/x-python",
   "name": "python",
   "nbconvert_exporter": "python",
   "pygments_lexer": "ipython3",
   "version": "3.11.1"
  }
 },
 "nbformat": 4,
 "nbformat_minor": 2
}
